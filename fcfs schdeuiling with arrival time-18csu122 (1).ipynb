{
 "cells": [
  {
   "cell_type": "code",
   "execution_count": 15,
   "metadata": {},
   "outputs": [
    {
     "name": "stdout",
     "output_type": "stream",
     "text": [
      "enter no. of processes:3\n",
      "enter arrival time :1\n",
      "enter burst time :4\n",
      "enter arrival time :2\n",
      "enter burst time :6\n",
      "enter arrival time :3\n",
      "enter burst time :7\n",
      " 1\t\t4\t 0\t\t 4\n",
      " 2\t\t6\t 5\t\t 11\n",
      " 3\t\t7\t 8\t\t 15\n",
      "Average waiting time = 4.333333333333333\n",
      "Average turn around time = 10.0\n"
     ]
    }
   ],
   "source": [
    "def WaitingTime(process, n,ArrTime,BurTime):\n",
    "    wt=[]\n",
    "    wt.append(0)\n",
    "    for i in range(1, n ):         \n",
    "        a= BurTime[i - 1] + ArrTime[i - 1]  \n",
    "        wt.append(a)\n",
    "    return wt\n",
    "\n",
    "        \n",
    "        \n",
    "def TurnAroundTime(process, n,ArrTime,BurTime,wt):\n",
    "    tat=[]\n",
    "    for i in range(n):        \n",
    "        b= BurTime[i] + wt[i]\n",
    "        tat.append(b)\n",
    "    return tat\n",
    "\n",
    "\n",
    "\n",
    "\n",
    "\n",
    "ArrTime=[]\n",
    "BurTime=[]\n",
    "n=int(input(\"enter no. of processes:\"))\n",
    "i=0\n",
    "while i<n:\n",
    "    a=int(input(\"enter arrival time :\"))\n",
    "    ArrTime.append(a)\n",
    "    b=int(input(\"enter burst time :\"))\n",
    "    BurTime.append(b)\n",
    "    i=i+1\n",
    "process=[]\n",
    "for i in range(n):\n",
    "    process.append(i+1)\n",
    "    \n",
    "\n",
    "wt=WaitingTime(process, n,ArrTime,BurTime)\n",
    "\n",
    "tat=TurnAroundTime(process, n,ArrTime,BurTime,wt) \n",
    "total_wt = 0\n",
    "total_tat = 0\n",
    "for i in range(n):      \n",
    "    total_wt = total_wt + wt[i] \n",
    "    total_tat = total_tat + tat[i] \n",
    "    print(\" \" + str(i + 1) + \"\\t\\t\" +str(BurTime[i]) + \"\\t \" +str(wt[i]) + \"\\t\\t \" +str(tat[i]))                     \n",
    "  \n",
    "print( \"Average waiting time = \"+str(total_wt / n)) \n",
    "                   \n",
    "print(\"Average turn around time = \"+str(total_tat / n)) \n",
    "                     \n",
    "\n",
    "    \n",
    "    \n",
    "    \n",
    "    \n",
    "    \n",
    "\n",
    "\n",
    "  \n",
    "  \n",
    "    "
   ]
  },
  {
   "cell_type": "code",
   "execution_count": null,
   "metadata": {},
   "outputs": [],
   "source": []
  }
 ],
 "metadata": {
  "kernelspec": {
   "display_name": "Python 3",
   "language": "python",
   "name": "python3"
  },
  "language_info": {
   "codemirror_mode": {
    "name": "ipython",
    "version": 3
   },
   "file_extension": ".py",
   "mimetype": "text/x-python",
   "name": "python",
   "nbconvert_exporter": "python",
   "pygments_lexer": "ipython3",
   "version": "3.7.3"
  }
 },
 "nbformat": 4,
 "nbformat_minor": 4
}
