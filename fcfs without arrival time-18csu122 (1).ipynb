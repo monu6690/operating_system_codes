{
 "cells": [
  {
   "cell_type": "code",
   "execution_count": 10,
   "metadata": {},
   "outputs": [
    {
     "name": "stdout",
     "output_type": "stream",
     "text": [
      "enter no. of processes:3\n",
      "enter burst time :3\n",
      "enter burst time :4\n",
      "enter burst time :5\n",
      " 1\t\t3\t 0\t\t 3\n",
      " 2\t\t4\t 3\t\t 7\n",
      " 3\t\t5\t 7\t\t 12\n",
      "Average waiting time = 3.3333333333333335\n",
      "Average turn around time = 7.333333333333333\n"
     ]
    }
   ],
   "source": [
    "def WaitingTime(process, n,bt):\n",
    "    wt=[]\n",
    "    wt.append(0)\n",
    "    for i in range(1,n):\n",
    "        wt.append(bt[i-1]+wt[i-1])\n",
    "    return wt\n",
    "\n",
    "        \n",
    "        \n",
    "def TurnAroundTime(process, n,bt,wt):\n",
    "    tat=[]\n",
    "    for l in range(0,len(wt)):\n",
    "        tat.append(bt[l] + wt[l])\n",
    "    return tat\n",
    "\n",
    "\n",
    "\n",
    "\n",
    "\n",
    "\n",
    "\n",
    "\n",
    "\n",
    "n=int(input(\"enter no. of processes:\"))\n",
    "i=0\n",
    "bt=[]\n",
    "while i<n:\n",
    "    b=int(input(\"enter burst time :\"))\n",
    "    bt.append(b)\n",
    "    i=i+1\n",
    "process=[]\n",
    "for i in range(n):\n",
    "    process.append(i+1)\n",
    "wt=WaitingTime(process, n,bt)\n",
    "\n",
    "tat=TurnAroundTime(process, n,bt,wt)\n",
    "total_wt = 0\n",
    "total_tat = 0\n",
    "for i in range(n):      \n",
    "    total_wt = total_wt + wt[i] \n",
    "    total_tat = total_tat + tat[i] \n",
    "    print(\" \" + str(i + 1) + \"\\t\\t\" +str(bt[i]) + \"\\t \" +str(wt[i]) + \"\\t\\t \" +str(tat[i]))                     \n",
    "  \n",
    "print( \"Average waiting time = \"+str(total_wt / n)) \n",
    "                   \n",
    "print(\"Average turn around time = \"+str(total_tat / n)) \n",
    "                     \n"
   ]
  },
  {
   "cell_type": "code",
   "execution_count": null,
   "metadata": {},
   "outputs": [],
   "source": []
  }
 ],
 "metadata": {
  "kernelspec": {
   "display_name": "Python 3",
   "language": "python",
   "name": "python3"
  },
  "language_info": {
   "codemirror_mode": {
    "name": "ipython",
    "version": 3
   },
   "file_extension": ".py",
   "mimetype": "text/x-python",
   "name": "python",
   "nbconvert_exporter": "python",
   "pygments_lexer": "ipython3",
   "version": "3.7.3"
  }
 },
 "nbformat": 4,
 "nbformat_minor": 4
}
